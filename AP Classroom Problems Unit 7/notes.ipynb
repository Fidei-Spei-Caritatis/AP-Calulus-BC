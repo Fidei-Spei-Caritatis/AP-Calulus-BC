{
 "cells": [
  {
   "attachments": {},
   "cell_type": "markdown",
   "metadata": {},
   "source": [
    "Let $r$ be continuous and non-negative on $[\\alpha,\\beta]$, where $0≤\\beta-\\alpha≤2\\pi$. The area $A$ of the region bounded by the curve $r(θ)$ and the lines $\\theta=\\alpha$ and $\\theta=\\beta$ is \n",
    "$$A = \\frac{1}{2} \\int_{\\alpha}^{\\beta}r(\\theta)^2 \\, d\\theta$$\n",
    "The theorem states that $0≤\\beta-\\alpha≤2\\pi$. This ensures that region does not overlap itself, giving a result that does not correspond directly to the area."
   ]
  }
 ],
 "metadata": {
  "kernelspec": {
   "display_name": "Python 3",
   "language": "python",
   "name": "python3"
  },
  "language_info": {
   "name": "python",
   "version": "3.11.1"
  },
  "orig_nbformat": 4,
  "vscode": {
   "interpreter": {
    "hash": "aee8b7b246df8f9039afb4144a1f6fd8d2ca17a180786b69acc140d282b71a49"
   }
  }
 },
 "nbformat": 4,
 "nbformat_minor": 2
}
